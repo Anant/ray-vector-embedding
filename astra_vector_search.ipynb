{
  "cells": [
    {
      "cell_type": "code",
      "execution_count": null,
      "id": "145ea0bd-8e6f-40eb-940c-9c296b0054be",
      "metadata": {
        "scrolled": true,
        "id": "145ea0bd-8e6f-40eb-940c-9c296b0054be"
      },
      "outputs": [],
      "source": [
        "!pip install -r requirements.txt"
      ]
    },
    {
      "cell_type": "code",
      "execution_count": null,
      "id": "22f82576-e5c4-4b70-8fd7-4d4bd47691d2",
      "metadata": {
        "id": "22f82576-e5c4-4b70-8fd7-4d4bd47691d2"
      },
      "outputs": [],
      "source": [
        "import ray\n",
        "ray.init(runtime_env={\"pip\": [\"langchain\", \"pypdf\", \"sentence_transformers\", \"transformers\"]})"
      ]
    },
    {
      "cell_type": "code",
      "execution_count": null,
      "id": "4eeea11e-ab5c-4e4c-91d9-419125a137a4",
      "metadata": {
        "id": "4eeea11e-ab5c-4e4c-91d9-419125a137a4"
      },
      "outputs": [],
      "source": [
        "from langchain.document_loaders import ArxivLoader"
      ]
    },
    {
      "cell_type": "code",
      "execution_count": null,
      "id": "ecf364f2-5a93-4e30-aef6-5725987c7888",
      "metadata": {
        "id": "ecf364f2-5a93-4e30-aef6-5725987c7888"
      },
      "outputs": [],
      "source": [
        "from langchain.text_splitter import RecursiveCharacterTextSplitter\n",
        "text_splitter = RecursiveCharacterTextSplitter(\n",
        "        chunk_size=1000, chunk_overlap=100, length_function=len\n",
        "    )"
      ]
    },
    {
      "cell_type": "code",
      "execution_count": null,
      "id": "25e81ff3-732d-40bc-9794-8dbbf423676f",
      "metadata": {
        "id": "25e81ff3-732d-40bc-9794-8dbbf423676f"
      },
      "outputs": [],
      "source": [
        "!pip install certifi"
      ]
    },
    {
      "cell_type": "code",
      "execution_count": null,
      "id": "c3aa9a7b-0189-4b14-ab86-338aecd8673d",
      "metadata": {
        "id": "c3aa9a7b-0189-4b14-ab86-338aecd8673d"
      },
      "outputs": [],
      "source": [
        "docs_chunks = ArxivLoader(query=\"1605.08386\", load_max_docs=2).load_and_split(text_splitter)"
      ]
    },
    {
      "cell_type": "code",
      "execution_count": null,
      "id": "b8521090-a016-439b-ab63-c2d20eba7e06",
      "metadata": {
        "id": "b8521090-a016-439b-ab63-c2d20eba7e06"
      },
      "outputs": [],
      "source": [
        "ds = ray.data.from_items(docs_chunks)"
      ]
    },
    {
      "cell_type": "code",
      "execution_count": null,
      "id": "0bbd6967-04f0-4a15-bd4d-89013aa5fafd",
      "metadata": {
        "id": "0bbd6967-04f0-4a15-bd4d-89013aa5fafd"
      },
      "outputs": [],
      "source": [
        "for d in ds.iter_rows():\n",
        "  print(d)"
      ]
    },
    {
      "cell_type": "code",
      "execution_count": null,
      "id": "199babae-c021-464e-8b65-d3c1abe34943",
      "metadata": {
        "id": "199babae-c021-464e-8b65-d3c1abe34943"
      },
      "outputs": [],
      "source": [
        "# preprocess chunks by replacing \\n by empty space\n",
        "ds_batch = ds.flat_map(lambda row: [{'item': row[\"item\"].page_content.replace(\"\\n\", \" \")}])"
      ]
    },
    {
      "cell_type": "code",
      "execution_count": null,
      "id": "4b8e4c70-5f9b-4727-b735-ceb2fcaab22f",
      "metadata": {
        "id": "4b8e4c70-5f9b-4727-b735-ceb2fcaab22f"
      },
      "outputs": [],
      "source": [
        "for row in ds_batch.iter_rows():\n",
        "  print(row)\n",
        "\n",
        "print(\"dec19\")"
      ]
    },
    {
      "cell_type": "code",
      "execution_count": null,
      "id": "b50b049c-5362-436e-9aa9-426b0784962a",
      "metadata": {
        "id": "b50b049c-5362-436e-9aa9-426b0784962a"
      },
      "outputs": [],
      "source": [
        "from sentence_transformers import SentenceTransformer\n",
        "from typing import List"
      ]
    },
    {
      "cell_type": "code",
      "execution_count": null,
      "id": "787d4403-cd06-4799-811c-b59282719ec0",
      "metadata": {
        "id": "787d4403-cd06-4799-811c-b59282719ec0"
      },
      "outputs": [],
      "source": [
        "model_name=\"intfloat/multilingual-e5-small\""
      ]
    },
    {
      "cell_type": "code",
      "execution_count": null,
      "id": "9d4212a6-974e-498c-ace4-b17471fb5255",
      "metadata": {
        "id": "9d4212a6-974e-498c-ace4-b17471fb5255"
      },
      "outputs": [],
      "source": [
        "class Embed:\n",
        "  def __init__(self):\n",
        "        self.transformer = SentenceTransformer(model_name)\n",
        "\n",
        "  def __call__(self, text_batch: List[str]):\n",
        "      # We manually encode using sentence_transformer since LangChain\n",
        "      # HuggingfaceEmbeddings does not support specifying a batch size yet.\n",
        "      text = text_batch[\"item\"]\n",
        "      embeddings = self.transformer.encode(\n",
        "          text,\n",
        "          batch_size=100 #,  # Large batch size to maximize GPU/CPU utilization.\n",
        "          #device=\"cuda\",\n",
        "      ).tolist()\n",
        "\n",
        "      #return {'results': list((text, embeddings))}\n",
        "      return {'results':list(zip(text, embeddings))}\n"
      ]
    },
    {
      "cell_type": "code",
      "execution_count": null,
      "id": "9de3e326-1e08-473d-b947-f03bdb997ed4",
      "metadata": {
        "id": "9de3e326-1e08-473d-b947-f03bdb997ed4"
      },
      "outputs": [],
      "source": [
        "ds_embed = ds_batch.map_batches(\n",
        "    Embed,\n",
        "    compute=ray.data.ActorPoolStrategy(size=1),\n",
        "    # Large batch size to maximize GPU utilization.\n",
        "    # Too large a batch size may result in GPU running out of memory.\n",
        "    # If the chunk size is increased, then decrease batch size.\n",
        "    # If the chunk size is decreased, then increase batch size.\n",
        "    #batch_size=10,  # Large batch size to maximize GPU utilization.\n",
        "    #compute=ray.data.ActorPoolStrategy(min_size=1, max_size=20),  # I have 20 GPUs in my cluster\n",
        "    #num_gpus=0.1,  # 1 GPU for each actor.\n",
        "    num_cpus=0,\n",
        ")"
      ]
    },
    {
      "cell_type": "code",
      "execution_count": null,
      "id": "baf7dde7-a447-490e-abbe-bb924e9a2333",
      "metadata": {
        "id": "baf7dde7-a447-490e-abbe-bb924e9a2333"
      },
      "outputs": [],
      "source": [
        "for output in ds_embed.iter_rows():\n",
        "    print(len(output[\"results\"][1]))"
      ]
    },
    {
      "cell_type": "markdown",
      "id": "0673eb1d-c454-4f1e-ac2c-2be9abf9425e",
      "metadata": {
        "id": "0673eb1d-c454-4f1e-ac2c-2be9abf9425e"
      },
      "source": [
        "## Setup connection with Astra DB"
      ]
    },
    {
      "cell_type": "code",
      "execution_count": null,
      "id": "1f4ad8f7-f096-47b7-a144-dbd42f459c6b",
      "metadata": {
        "id": "1f4ad8f7-f096-47b7-a144-dbd42f459c6b"
      },
      "outputs": [],
      "source": [
        "from cassandra.cluster import Cluster\n",
        "from cassandra.auth import PlainTextAuthProvider\n",
        "from local_creds_secrets import *\n",
        "\n",
        "cloud_config= {\n",
        "  'secure_connect_bundle': secure_bundle_path\n",
        "}\n",
        "auth_provider = PlainTextAuthProvider(client_id, client_secret)\n",
        "cluster = Cluster(cloud=cloud_config, auth_provider=auth_provider)\n",
        "session = cluster.connect()\n",
        "\n",
        "row = session.execute(\"select release_version from system.local\").one()\n",
        "if row:\n",
        "  print(row[0])\n",
        "else:\n",
        "  print(\"An error occurred.\")"
      ]
    },
    {
      "cell_type": "code",
      "execution_count": null,
      "id": "bff7db72-749b-4747-8980-8463fd3c9b95",
      "metadata": {
        "id": "bff7db72-749b-4747-8980-8463fd3c9b95"
      },
      "outputs": [],
      "source": [
        "table_name = f\"{db_keyspace}.papers\""
      ]
    },
    {
      "cell_type": "code",
      "execution_count": null,
      "id": "b29d4068-d041-45ce-8c86-5bc62fd9222f",
      "metadata": {
        "id": "b29d4068-d041-45ce-8c86-5bc62fd9222f"
      },
      "outputs": [],
      "source": [
        "table_creation_query = f\"\"\"CREATE TABLE IF NOT EXISTS {table_name} (\n",
        "  id int PRIMARY KEY,\n",
        "  name TEXT,\n",
        "  description TEXT,\n",
        "  item_vector VECTOR<FLOAT, 384> //create a 384-dimensional embedding\n",
        ");\"\"\""
      ]
    },
    {
      "cell_type": "code",
      "execution_count": null,
      "id": "efc31863-c697-4347-b6d3-dd3c77c54e5e",
      "metadata": {
        "id": "efc31863-c697-4347-b6d3-dd3c77c54e5e"
      },
      "outputs": [],
      "source": [
        "session.execute(table_creation_query)"
      ]
    },
    {
      "cell_type": "code",
      "execution_count": null,
      "id": "0631fcf2-ef0d-4f67-ac59-3b79e7ce4022",
      "metadata": {
        "id": "0631fcf2-ef0d-4f67-ac59-3b79e7ce4022"
      },
      "outputs": [],
      "source": [
        "sai_index_query= f\"\"\"CREATE CUSTOM INDEX IF NOT EXISTS ann_index\n",
        "  ON {table_name}(item_vector) USING 'StorageAttachedIndex'; \"\"\"\n",
        "  #WITH OPTIONS = { 'similarity_function': 'DOT_PRODUCT' };\"\"\"\n",
        "session.execute(sai_index_query)"
      ]
    },
    {
      "cell_type": "code",
      "execution_count": null,
      "id": "d97e0ee3-4a08-45fe-ae2c-69ff7b27051d",
      "metadata": {
        "id": "d97e0ee3-4a08-45fe-ae2c-69ff7b27051d"
      },
      "outputs": [],
      "source": [
        "session.execute(sai_index_query)"
      ]
    },
    {
      "cell_type": "markdown",
      "id": "fa811e95-d6f3-4bfd-9b04-ee8a8963cf92",
      "metadata": {
        "id": "fa811e95-d6f3-4bfd-9b04-ee8a8963cf92"
      },
      "source": [
        "### Insert vector records into AstraDB"
      ]
    },
    {
      "cell_type": "code",
      "execution_count": null,
      "id": "a2a091ea-8bc1-4f52-98b7-dd81091a119f",
      "metadata": {
        "id": "a2a091ea-8bc1-4f52-98b7-dd81091a119f"
      },
      "outputs": [],
      "source": [
        "id=1\n",
        "for output in ds_embed.iter_rows():\n",
        "  query = f\"\"\"INSERT INTO {db_keyspace}.papers (id, name, description, item_vector)\n",
        "  VALUES ({id},'paper_1_sample', '{output[\"results\"][0]}',{output[\"results\"][1]});\"\"\"\n",
        "  id+=1\n",
        "  session.execute(query)"
      ]
    },
    {
      "cell_type": "code",
      "execution_count": null,
      "id": "660304f1-b6c3-4b0b-ab60-d0857a23a563",
      "metadata": {
        "id": "660304f1-b6c3-4b0b-ab60-d0857a23a563"
      },
      "outputs": [],
      "source": [
        "rows = session.execute(f\"select * from {db_keyspace}.papers limit 3;\").all()"
      ]
    },
    {
      "cell_type": "code",
      "execution_count": null,
      "id": "c4b6faa3-0c74-48c8-abb7-570ca55a8eff",
      "metadata": {
        "id": "c4b6faa3-0c74-48c8-abb7-570ca55a8eff"
      },
      "outputs": [],
      "source": [
        "for row in rows:\n",
        "  print(row)"
      ]
    },
    {
      "cell_type": "markdown",
      "id": "d5399fdb-5b4b-40b2-8baa-96add0c001e4",
      "metadata": {
        "id": "d5399fdb-5b4b-40b2-8baa-96add0c001e4"
      },
      "source": [
        "## Searching a sentence from the table"
      ]
    },
    {
      "cell_type": "code",
      "execution_count": null,
      "id": "a555dfe6-5725-4216-84e7-157c7ba463d2",
      "metadata": {
        "id": "a555dfe6-5725-4216-84e7-157c7ba463d2"
      },
      "outputs": [],
      "source": [
        "model = SentenceTransformer('intfloat/multilingual-e5-small')"
      ]
    },
    {
      "cell_type": "code",
      "execution_count": null,
      "id": "95b4dff3-2ab7-4b47-b053-3ece178d667d",
      "metadata": {
        "id": "95b4dff3-2ab7-4b47-b053-3ece178d667d"
      },
      "outputs": [],
      "source": [
        "example_sentence=\"two lattice points are connected by an edge if their diﬀerence lies in a ﬁnite\"\n",
        "embedding = list(model.encode(example_sentence))\n"
      ]
    },
    {
      "cell_type": "code",
      "execution_count": null,
      "id": "d3f2022d-f5af-4f4d-b2c6-19869828b5a2",
      "metadata": {
        "id": "d3f2022d-f5af-4f4d-b2c6-19869828b5a2"
      },
      "outputs": [],
      "source": [
        "search_query = f\"\"\"SELECT * FROM {db_keyspace}.papers\n",
        "ORDER BY item_vector ANN OF {embedding}\n",
        "LIMIT 2;\"\"\""
      ]
    },
    {
      "cell_type": "code",
      "execution_count": null,
      "id": "81575f5c-f57a-401a-84cf-d9890f256fe3",
      "metadata": {
        "id": "81575f5c-f57a-401a-84cf-d9890f256fe3"
      },
      "outputs": [],
      "source": [
        "session.execute(search_query).all()"
      ]
    }
  ],
  "metadata": {
    "kernelspec": {
      "display_name": "Python 3 (ipykernel)",
      "language": "python",
      "name": "python3"
    },
    "language_info": {
      "codemirror_mode": {
        "name": "ipython",
        "version": 3
      },
      "file_extension": ".py",
      "mimetype": "text/x-python",
      "name": "python",
      "nbconvert_exporter": "python",
      "pygments_lexer": "ipython3",
      "version": "3.10.11"
    },
    "colab": {
      "provenance": []
    }
  },
  "nbformat": 4,
  "nbformat_minor": 5
}
